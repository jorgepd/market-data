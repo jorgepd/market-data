{
 "cells": [
  {
   "cell_type": "code",
   "execution_count": 1,
   "metadata": {},
   "outputs": [],
   "source": [
    "# custom imports\n",
    "from src import poligon_api\n",
    "from src import db"
   ]
  },
  {
   "cell_type": "code",
   "execution_count": 2,
   "metadata": {},
   "outputs": [],
   "source": [
    "# configs\n",
    "with open('API_KEY.txt') as f:\n",
    "    API_KEY = f.readline()\n",
    "\n",
    "ticker_ls = ['AAPL', 'MSFT', 'AMZN', 'NVDA', 'GOOGL', 'META', 'TSLA', 'UNH', 'XOM', 'LLY']\n",
    "mult = '1'\n",
    "timespan = 'minute'\n",
    "start = '2023-01-01'\n",
    "# start = '2023-06-25'\n",
    "end = '2023-07-01'\n"
   ]
  },
  {
   "cell_type": "code",
   "execution_count": 3,
   "metadata": {},
   "outputs": [
    {
     "name": "stdout",
     "output_type": "stream",
     "text": [
      "XOM\n",
      "Too many requests, sleeping...\n",
      "Too many requests, sleeping...\n",
      "LLY\n",
      "Too many requests, sleeping...\n"
     ]
    }
   ],
   "source": [
    "for ticker in ticker_ls:\n",
    "    print(ticker)\n",
    "    db.delete(ticker)\n",
    "    data = poligon_api.get_data(ticker, mult, timespan, start, end, API_KEY)\n",
    "    db.insert(data)"
   ]
  },
  {
   "cell_type": "code",
   "execution_count": 6,
   "metadata": {},
   "outputs": [
    {
     "name": "stdout",
     "output_type": "stream",
     "text": [
      "AAPL 95147\n",
      "MSFT 81270\n",
      "AMZN 97250\n",
      "NVDA 95598\n",
      "GOOGL 83648\n",
      "META 80207\n",
      "TSLA 115790\n",
      "UNH 50982\n",
      "XOM 59498\n",
      "LLY 50648\n"
     ]
    }
   ],
   "source": [
    "data = db.select()\n",
    "for ticker in data['ticker'].unique():\n",
    "    df = data.loc[data['ticker'] == ticker]\n",
    "    print(ticker, len(df))"
   ]
  },
  {
   "cell_type": "code",
   "execution_count": 5,
   "metadata": {},
   "outputs": [
    {
     "data": {
      "text/plain": [
       "array(['AAPL', 'MSFT', 'AMZN', 'NVDA', 'GOOGL', 'META', 'TSLA', 'UNH',\n",
       "       'XOM', 'LLY'], dtype=object)"
      ]
     },
     "execution_count": 5,
     "metadata": {},
     "output_type": "execute_result"
    }
   ],
   "source": [
    "data['ticker'].unique()"
   ]
  },
  {
   "cell_type": "code",
   "execution_count": null,
   "metadata": {},
   "outputs": [],
   "source": []
  }
 ],
 "metadata": {
  "kernelspec": {
   "display_name": "Python 3",
   "language": "python",
   "name": "python3"
  },
  "language_info": {
   "codemirror_mode": {
    "name": "ipython",
    "version": 3
   },
   "file_extension": ".py",
   "mimetype": "text/x-python",
   "name": "python",
   "nbconvert_exporter": "python",
   "pygments_lexer": "ipython3",
   "version": "3.11.3"
  },
  "orig_nbformat": 4
 },
 "nbformat": 4,
 "nbformat_minor": 2
}
